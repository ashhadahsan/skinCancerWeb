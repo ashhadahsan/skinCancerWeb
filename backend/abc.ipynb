{
 "cells": [
  {
   "cell_type": "code",
   "execution_count": 4,
   "metadata": {},
   "outputs": [
    {
     "data": {
      "text/plain": [
       "'=HYPERLINK(\"https://web.bcpa.net/bcpaclient/#/Record-Search?fnumber=484125280260\",\"Link\")'"
      ]
     },
     "execution_count": 4,
     "metadata": {},
     "output_type": "execute_result"
    }
   ],
   "source": [
    "# f'''=HYPERLINK(\"{link}\",\"Link\")'''"
   ]
  },
  {
   "cell_type": "code",
   "execution_count": 15,
   "metadata": {},
   "outputs": [],
   "source": [
    "from typing import List\n",
    "import requests\n",
    "import json\n",
    "import pandas as pd\n",
    "\n",
    "import time\n",
    "from tqdm import tqdm\n",
    "def reverse(text:List):\n",
    "    return \",\".join(text[::-1])\n",
    "import pymongo\n",
    "\n",
    "client = pymongo.MongoClient(\"mongodb://127.0.0.1:27017\")\n",
    "\n",
    "db = client[\"bcpa\"]\n",
    "correct = db[\"correct\"]\n",
    "wrong = db[\"wrong\"]\n",
    "wrong_again=db['wrong2']\n",
    "wrong_three=db['wrong3']\n",
    "\n",
    "def find_index_by_owner_name(data, owner_name):\n",
    "    for i, item in enumerate(data):\n",
    "        if item.get('ownerName1') == owner_name:\n",
    "            return i\n",
    "    return -1  # Owner name not found\n",
    "\n",
    "\n",
    "def change_order(text:str)->str:\n",
    "    firstname=text.split(\",\")[0]\n",
    "    secondname=text.split(\",\")[-1].split(\" \")[0].strip()\n",
    "    return \",\".join([firstname,secondname])"
   ]
  },
  {
   "cell_type": "code",
   "execution_count": 30,
   "metadata": {},
   "outputs": [],
   "source": [
    "# get the wrong data now\n",
    "owner_names=[x['name'] for x in wrong_three.find()]\n",
    "correct_fuzzy=db['correct_fuzzy']\n",
    "wrong_final=db['wrong_final']\n",
    "\n",
    "# now do fuzzy match\n",
    "from fuzzywuzzy import fuzz\n",
    "from fuzzywuzzy import process\n",
    "\n",
    "def fuzzy_match(input_list,name):\n",
    "    # Use the process.extractOne() function to find the closest match\n",
    "    closest_match = process.extractOne(name, input_list)\n",
    "\n",
    "    # closest_match is a tuple containing the closest match and its similarity score\n",
    "    try:\n",
    "        matched_name = closest_match[0]\n",
    "        return matched_name\n",
    "    except TypeError:\n",
    "        return None\n",
    "def populate_latest(x)->List:\n",
    "    url = \"https://web.bcpa.net/bcpaclient/search.aspx/PopulateInput\"\n",
    "\n",
    "    payload = json.dumps({\"value\": x,\"cities\":\"\", \"arrayOfValues\": \"\"})\n",
    "    headers = {\n",
    "    'Accept': 'application/json, text/javascript, */*; q=0.01',\n",
    "    'Accept-Language': 'en-US,en;q=0.9',\n",
    "    'Connection': 'keep-alive',\n",
    "    'Content-Type': 'application/json; charset=UTF-8',\n",
    "    'Origin': 'https://web.bcpa.net',\n",
    "    'Referer': 'https://web.bcpa.net/bcpaclient/',\n",
    "    'Sec-Fetch-Dest': 'empty',\n",
    "    'Sec-Fetch-Mode': 'cors',\n",
    "    'Sec-Fetch-Site': 'same-origin',\n",
    "    'User-Agent': 'Mozilla/5.0 (Windows NT 10.0; Win64; x64) AppleWebKit/537.36 (KHTML, like Gecko) Chrome/113.0.0.0 Safari/537.36 Edg/113.0.1774.50',\n",
    "    'X-Requested-With': 'XMLHttpRequest',\n",
    "    'sec-ch-ua': '\"Microsoft Edge\";v=\"113\", \"Chromium\";v=\"113\", \"Not-A.Brand\";v=\"24\"',\n",
    "    'sec-ch-ua-mobile': '?0',\n",
    "    'sec-ch-ua-platform': '\"Windows\"'\n",
    "    }\n",
    "\n",
    "    response = requests.request(\"POST\", url, headers=headers, data=payload)\n",
    "\n",
    "    data_to_check=response.json()['d']\n",
    "    return data_to_check\n"
   ]
  },
  {
   "cell_type": "code",
   "execution_count": 29,
   "metadata": {},
   "outputs": [],
   "source": [
    "\n",
    "\n",
    "headers = {\n",
    "    'Accept': 'application/json, text/javascript, */*; q=0.01',\n",
    "    'Accept-Language': 'en-US,en;q=0.9',\n",
    "    'Connection': 'keep-alive',\n",
    "    'Content-Type': 'application/json; charset=UTF-8',\n",
    "    'Origin': 'https://web.bcpa.net',\n",
    "    'Referer': 'https://web.bcpa.net/BcpaClient/',\n",
    "    'Sec-Fetch-Dest': 'empty',\n",
    "    'Sec-Fetch-Mode': 'cors',\n",
    "    'Sec-Fetch-Site': 'same-origin',\n",
    "    'User-Agent': 'Mozilla/5.0 (Windows NT 10.0; Win64; x64) AppleWebKit/537.36 (KHTML, like Gecko) Chrome/113.0.0.0 Safari/537.36',\n",
    "    'X-Requested-With': 'XMLHttpRequest',\n",
    "    'sec-ch-ua': '\"Google Chrome\";v=\"113\", \"Chromium\";v=\"113\", \"Not-A.Brand\";v=\"24\"',\n",
    "    'sec-ch-ua-mobile': '?0',\n",
    "    'sec-ch-ua-platform': '\"Windows\"',\n",
    "}\n",
    "\n",
    "links=[]\n",
    "error_name=[]\n",
    "def get_url(name:str):\n",
    "        time.sleep(2)\n",
    "        close_check=populate_latest(name)\n",
    "        close=fuzzy_match(close_check,name)\n",
    "        time.sleep(2)\n",
    "        if close:\n",
    "\n",
    "            data = {\"value\":close ,\"cities\": \"\",\"orderBy\": \"NAME\",\"pageNumber\":\"1\",\"pageCount\":\"5000\",\"arrayOfValues\":\"\", \"selectedFromList\": \"true\",\"totalCount\":\"Y\"}\n",
    "            data=json.dumps(data)\n",
    "            response = requests.post('https://web.bcpa.net/BcpaClient/search.aspx/GetData', headers=headers, data=data)\n",
    "            data=response.json()\n",
    "            data_to_check=data['d']['resultListk__BackingField']\n",
    "            index=0\n",
    "            try:\n",
    "                dname=data_to_check[index]['folioNumber']\n",
    "                link=f\"https://web.bcpa.net/bcpaclient/#/Record-Search?fnumber={dname}\"\n",
    "                correct_fuzzy.insert_one({\"name\":name,\"link\":link})\n",
    "                wrong_again.delete_one({\"name\":name})\n",
    "            except IndexError:\n",
    "                wrong_final.insert_one({\"name\":name})\n",
    "        else:\n",
    "             wrong_final.insert_one({\"name\":name})\n",
    "             "
   ]
  },
  {
   "cell_type": "code",
   "execution_count": 20,
   "metadata": {},
   "outputs": [
    {
     "name": "stderr",
     "output_type": "stream",
     "text": [
      "100%|██████████| 1194/1194 [1:26:31<00:00,  4.35s/it]\n"
     ]
    }
   ],
   "source": [
    "for owner in tqdm(range(0,len((owner_names)))):\n",
    "\n",
    "    get_url(owner_names[owner])\n",
    "    "
   ]
  },
  {
   "attachments": {},
   "cell_type": "markdown",
   "metadata": {},
   "source": [
    "owner_names"
   ]
  },
  {
   "cell_type": "code",
   "execution_count": 21,
   "metadata": {},
   "outputs": [],
   "source": []
  },
  {
   "cell_type": "code",
   "execution_count": null,
   "metadata": {},
   "outputs": [],
   "source": []
  },
  {
   "cell_type": "code",
   "execution_count": 24,
   "metadata": {},
   "outputs": [],
   "source": []
  },
  {
   "cell_type": "code",
   "execution_count": 27,
   "metadata": {},
   "outputs": [
    {
     "name": "stderr",
     "output_type": "stream",
     "text": [
      "  0%|          | 0/507 [00:02<?, ?it/s]\n"
     ]
    },
    {
     "ename": "NameError",
     "evalue": "name 'populate_latest' is not defined",
     "output_type": "error",
     "traceback": [
      "\u001b[1;31m---------------------------------------------------------------------------\u001b[0m",
      "\u001b[1;31mNameError\u001b[0m                                 Traceback (most recent call last)",
      "Cell \u001b[1;32mIn[27], line 3\u001b[0m\n\u001b[0;32m      1\u001b[0m \u001b[39mfor\u001b[39;00m x \u001b[39min\u001b[39;00m tqdm(\u001b[39mrange\u001b[39m(\u001b[39m0\u001b[39m,\u001b[39mlen\u001b[39m(owner_names))):\n\u001b[0;32m      2\u001b[0m     time\u001b[39m.\u001b[39msleep(\u001b[39m2\u001b[39m)\n\u001b[1;32m----> 3\u001b[0m     data\u001b[39m=\u001b[39mpopulate_latest(owner_names[x])\n\u001b[0;32m      4\u001b[0m     closest_name\u001b[39m=\u001b[39mfuzzy_match(data,owner_names[x])\n\u001b[0;32m      5\u001b[0m     \u001b[39mif\u001b[39;00m closest_name:\n",
      "\u001b[1;31mNameError\u001b[0m: name 'populate_latest' is not defined"
     ]
    }
   ],
   "source": [
    "\n",
    "        "
   ]
  },
  {
   "cell_type": "code",
   "execution_count": null,
   "metadata": {},
   "outputs": [],
   "source": []
  }
 ],
 "metadata": {
  "kernelspec": {
   "display_name": "p_39",
   "language": "python",
   "name": "python3"
  },
  "language_info": {
   "codemirror_mode": {
    "name": "ipython",
    "version": 3
   },
   "file_extension": ".py",
   "mimetype": "text/x-python",
   "name": "python",
   "nbconvert_exporter": "python",
   "pygments_lexer": "ipython3",
   "version": "3.9.16"
  },
  "orig_nbformat": 4
 },
 "nbformat": 4,
 "nbformat_minor": 2
}
