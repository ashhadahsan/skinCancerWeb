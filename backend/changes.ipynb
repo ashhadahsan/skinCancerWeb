{
 "cells": [
  {
   "attachments": {},
   "cell_type": "markdown",
   "metadata": {},
   "source": [
    "## Second run after usual run\n",
    "\n",
    "* Remove extras of a name and use that new name to find the data and add conditions to check with the returned array to get the correct data\n",
    "* Reverse the string and try it out (first try this)\n"
   ]
  },
  {
   "cell_type": "code",
   "execution_count": 30,
   "metadata": {},
   "outputs": [],
   "source": [
    "strings=[\"Garaham,Norton C JR\",\"Graham, Albert\"]\n",
    "\n",
    "if len(strings[0].split(\",\")[-1].split(\" \")[-1])==1:\n",
    "    print(\"pol\")\n",
    "    char_to_remove=strings[0].split(\",\")[-1].split(\" \")[-1]\n",
    "    firstname=strings[0].split(\",\")[0]\n",
    "    print(firstname)\n",
    "    secdndname=strings[0].split(\",\")[-1].split(\" \")\n",
    "    print(strings[0].split(\",\")[-1].split(\" \"))\n"
   ]
  },
  {
   "cell_type": "code",
   "execution_count": 31,
   "metadata": {},
   "outputs": [],
   "source": [
    "firstname=strings[0].split(\",\")[0]\n",
    "lastname=strings[0].split(\",\")[1]\n",
    "lastname=lastname.split(\" \")[0]"
   ]
  },
  {
   "cell_type": "code",
   "execution_count": 32,
   "metadata": {},
   "outputs": [
    {
     "name": "stdout",
     "output_type": "stream",
     "text": [
      "Garaham Norton\n"
     ]
    }
   ],
   "source": [
    "print(firstname,lastname)\n",
    "fullname=firstname + ' '+lastname"
   ]
  },
  {
   "cell_type": "code",
   "execution_count": 45,
   "metadata": {},
   "outputs": [],
   "source": [
    "from typing import List\n",
    "def reverse(text:List):\n",
    "    return \",\".join(text[::-1])"
   ]
  },
  {
   "cell_type": "code",
   "execution_count": 46,
   "metadata": {},
   "outputs": [
    {
     "data": {
      "text/plain": [
       "'DEVIN,FUNCHESS'"
      ]
     },
     "execution_count": 46,
     "metadata": {},
     "output_type": "execute_result"
    }
   ],
   "source": [
    "reverse(\"FUNCHESS,DEVIN\".split(\",\"))"
   ]
  },
  {
   "cell_type": "code",
   "execution_count": null,
   "metadata": {},
   "outputs": [],
   "source": [
    "from tqdm import tqd    m\n",
    "error_names=[]\n",
    "for x in range(len(error_names)):\n",
    "    dname=re    verse(x.split(\",\"))"
   ]
  },
  {
   "cell_type": "code",
   "execution_count": 18,
   "metadata": {},
   "outputs": [
    {
     "data": {
      "text/plain": [
       "{'d': {'__type': 'BCPAClient.WcfServiceBCPA.SearchResult',\n",
       "  'ExtensionData': {},\n",
       "  'TotalAmountOfRecordsFoundk__BackingField': 1,\n",
       "  'resultListk__BackingField': [{'__type': 'BCPAClient.WcfServiceBCPA.OwnerNamesProps',\n",
       "    'ExtensionData': {},\n",
       "    'folioNumber': '504206200020',\n",
       "    'ownerName1': 'HODGE,FRANCES',\n",
       "    'ownerName2': 'BULLARD,NATHANIEL ETAL',\n",
       "    'siteAddress1': '671 NW 39 AVE',\n",
       "    'siteAddress2': 'LAUDERHILL, FL 33311'}]}}"
      ]
     },
     "execution_count": 18,
     "metadata": {},
     "output_type": "execute_result"
    }
   ],
   "source": [
    "from typing import List\n",
    "import requests\n",
    "import json\n",
    "import pandas as pd\n",
    "\n",
    "import time\n",
    "from tqdm import tqdm\n",
    "def reverse(text:List):\n",
    "    return \" \".join(text[::-1])\n",
    "import pymongo\n",
    "\n",
    "client = pymongo.MongoClient(\"mongodb://127.0.0.1:27017\")\n",
    "\n",
    "db = client[\"bcpa_2\"]\n",
    "correct = db[\"correct\"]\n",
    "wrong = db[\"wrong\"]"
   ]
  },
  {
   "attachments": {},
   "cell_type": "markdown",
   "metadata": {},
   "source": []
  },
  {
   "cell_type": "code",
   "execution_count": 19,
   "metadata": {},
   "outputs": [],
   "source": [
    "data=dname['d']['resultListk__BackingField']\n"
   ]
  },
  {
   "cell_type": "code",
   "execution_count": 47,
   "metadata": {},
   "outputs": [],
   "source": [
    "data = {\"value\":\"HODGE,FRANCES\" ,\"cities\": \"\",\"orderBy\": \"NAME\",\"pageNumber\":\"1\",\"pageCount\":\"5000\",\"arrayOfValues\":\"\", \"selectedFromList\": \"true\",\"totalCount\":\"Y\"}\n",
    "data=json.dumps(data)\n",
    "headers = {\n",
    "    'Accept': 'application/json, text/javascript, */*; q=0.01',\n",
    "    'Accept-Language': 'en-US,en;q=0.9',\n",
    "    'Connection': 'keep-alive',\n",
    "    'Content-Type': 'application/json; charset=UTF-8',\n",
    "    'Origin': 'https://web.bcpa.net',\n",
    "    'Referer': 'https://web.bcpa.net/BcpaClient/',\n",
    "    'Sec-Fetch-Dest': 'empty',\n",
    "    'Sec-Fetch-Mode': 'cors',\n",
    "    'Sec-Fetch-Site': 'same-origin',\n",
    "    'User-Agent': 'Mozilla/5.0 (Windows NT 10.0; Win64; x64) AppleWebKit/537.36 (KHTML, like Gecko) Chrome/113.0.0.0 Safari/537.36',\n",
    "    'X-Requested-With': 'XMLHttpRequest',\n",
    "    'sec-ch-ua': '\"Google Chrome\";v=\"113\", \"Chromium\";v=\"113\", \"Not-A.Brand\";v=\"24\"',\n",
    "    'sec-ch-ua-mobile': '?0',\n",
    "    'sec-ch-ua-platform': '\"Windows\"',\n",
    "}\n",
    "response = requests.post('https://web.bcpa.net/BcpaClient/search.aspx/GetData', headers=headers, data=data)\n",
    "data=response.json()"
   ]
  },
  {
   "cell_type": "code",
   "execution_count": 52,
   "metadata": {},
   "outputs": [
    {
     "data": {
      "text/plain": [
       "[{'__type': 'BCPAClient.WcfServiceBCPA.OwnerNamesProps',\n",
       "  'ExtensionData': {},\n",
       "  'folioNumber': '504206200020',\n",
       "  'ownerName1': 'HODGE,FRANCES',\n",
       "  'ownerName2': 'BULLARD,NATHANIEL ETAL',\n",
       "  'siteAddress1': '671 NW 39 AVE',\n",
       "  'siteAddress2': 'LAUDERHILL, FL 33311'}]"
      ]
     },
     "execution_count": 52,
     "metadata": {},
     "output_type": "execute_result"
    }
   ],
   "source": [
    "data_to_check=data['d']['resultListk__BackingField']\n",
    "data_to_check"
   ]
  },
  {
   "cell_type": "code",
   "execution_count": 49,
   "metadata": {},
   "outputs": [],
   "source": [
    "def find_index_by_owner_name(data, owner_name):\n",
    "    for i, item in enumerate(data):\n",
    "        if item.get('ownerName1') == owner_name:\n",
    "            return i\n",
    "    return -1  # Owner name not found"
   ]
  },
  {
   "cell_type": "code",
   "execution_count": 50,
   "metadata": {},
   "outputs": [
    {
     "data": {
      "text/plain": [
       "0"
      ]
     },
     "execution_count": 50,
     "metadata": {},
     "output_type": "execute_result"
    }
   ],
   "source": [
    "find_index_by_owner_name(data_to_check,\"HODGE,FRANCES\")"
   ]
  },
  {
   "cell_type": "code",
   "execution_count": 20,
   "metadata": {},
   "outputs": [],
   "source": [
    "from fuzzywuzzy import fuzz\n",
    "from fuzzywuzzy import process\n",
    "\n",
    "name_list = [\n",
    "    \"FRED ACKERMANN\",\n",
    "    \"FREDERICK ACKERMAN\",\n",
    "    \"FREDERICK M & PAULA ACKERMAN TR\",\n",
    "]\n",
    "\n",
    "input_name = \"ACKER,FRED\"\n",
    "def fuzzy_match(input_list,name):\n",
    "    # Use the process.extractOne() function to find the closest match\n",
    "    closest_match = process.extractOne(name, input_list)\n",
    "\n",
    "    # closest_match is a tuple containing the closest match and its similarity score\n",
    "    try:\n",
    "        matched_name = closest_match[0]\n",
    "        return matched_name\n",
    "    except TypeError:\n",
    "        return None\n",
    "\n"
   ]
  },
  {
   "cell_type": "code",
   "execution_count": null,
   "metadata": {},
   "outputs": [],
   "source": []
  },
  {
   "cell_type": "code",
   "execution_count": 28,
   "metadata": {},
   "outputs": [
    {
     "data": {
      "text/plain": [
       "[]"
      ]
     },
     "execution_count": 28,
     "metadata": {},
     "output_type": "execute_result"
    }
   ],
   "source": [
    "import requests\n",
    "import json\n",
    "\n",
    "url = \"https://web.bcpa.net/bcpaclient/search.aspx/PopulateInput\"\n",
    "\n",
    "payload = json.dumps({\"value\": \"ashhad\",\"cities\":\"\", \"arrayOfValues\": \"\"})\n",
    "headers = {\n",
    "  'Accept': 'application/json, text/javascript, */*; q=0.01',\n",
    "  'Accept-Language': 'en-US,en;q=0.9',\n",
    "  'Connection': 'keep-alive',\n",
    "  'Content-Type': 'application/json; charset=UTF-8',\n",
    "  'Origin': 'https://web.bcpa.net',\n",
    "  'Referer': 'https://web.bcpa.net/bcpaclient/',\n",
    "  'Sec-Fetch-Dest': 'empty',\n",
    "  'Sec-Fetch-Mode': 'cors',\n",
    "  'Sec-Fetch-Site': 'same-origin',\n",
    "  'User-Agent': 'Mozilla/5.0 (Windows NT 10.0; Win64; x64) AppleWebKit/537.36 (KHTML, like Gecko) Chrome/113.0.0.0 Safari/537.36 Edg/113.0.1774.50',\n",
    "  'X-Requested-With': 'XMLHttpRequest',\n",
    "  'sec-ch-ua': '\"Microsoft Edge\";v=\"113\", \"Chromium\";v=\"113\", \"Not-A.Brand\";v=\"24\"',\n",
    "  'sec-ch-ua-mobile': '?0',\n",
    "  'sec-ch-ua-platform': '\"Windows\"'\n",
    "}\n",
    "\n",
    "response = requests.request(\"POST\", url, headers=headers, data=payload)\n",
    "\n",
    "data_to_check=response.json()['d']\n",
    "\n",
    "data_to_check"
   ]
  },
  {
   "cell_type": "code",
   "execution_count": 29,
   "metadata": {},
   "outputs": [],
   "source": [
    "if fuzzy_match(data_to_check,\"fred acker\"):\n",
    "    print(\"os\")"
   ]
  },
  {
   "cell_type": "code",
   "execution_count": null,
   "metadata": {},
   "outputs": [],
   "source": []
  },
  {
   "cell_type": "code",
   "execution_count": 30,
   "metadata": {},
   "outputs": [],
   "source": [
    "import pandas as pd\n",
    "import pymongo\n",
    "\n",
    "client = pymongo.MongoClient(\"mongodb://127.0.0.1:27017\")\n",
    "\n",
    "db = client[\"bcpa\"]\n",
    "correct=db['correct']"
   ]
  },
  {
   "cell_type": "code",
   "execution_count": 38,
   "metadata": {},
   "outputs": [],
   "source": [
    "pd.DataFrame([{'name':x['name'],\n",
    "'link':f'''=HYPERLINK(\"{x['link']}\",\"Link\")''',\n",
    "} for x in correct.find()]).to_excel(\"output.xlsx\",index=False)"
   ]
  },
  {
   "cell_type": "code",
   "execution_count": 42,
   "metadata": {},
   "outputs": [],
   "source": [
    "fuzzy_correct=db['correct_fuzzy']\n",
    "pd.DataFrame([{'name':x['name'],\n",
    "'link':f'''=HYPERLINK(\"{x['link']}\",\"Link\")''',\n",
    "} for x in fuzzy_correct.find()]).to_excel(\"output_fuzzy.xlsx\",index=False)"
   ]
  },
  {
   "cell_type": "code",
   "execution_count": 43,
   "metadata": {},
   "outputs": [],
   "source": [
    "wrong_final=db['wrong_final']\n",
    "pd.DataFrame([{'name':x['name'],\n",
    "} for x in wrong_final.find()]).to_excel(\"output_wrong.xlsx\",index=False)"
   ]
  },
  {
   "cell_type": "code",
   "execution_count": null,
   "metadata": {},
   "outputs": [],
   "source": []
  }
 ],
 "metadata": {
  "kernelspec": {
   "display_name": "p_39",
   "language": "python",
   "name": "python3"
  },
  "language_info": {
   "codemirror_mode": {
    "name": "ipython",
    "version": 3
   },
   "file_extension": ".py",
   "mimetype": "text/x-python",
   "name": "python",
   "nbconvert_exporter": "python",
   "pygments_lexer": "ipython3",
   "version": "3.9.16"
  },
  "orig_nbformat": 4
 },
 "nbformat": 4,
 "nbformat_minor": 2
}
