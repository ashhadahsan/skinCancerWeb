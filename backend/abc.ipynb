{
 "cells": [
  {
   "cell_type": "code",
   "execution_count": 4,
   "metadata": {},
   "outputs": [
    {
     "data": {
      "text/plain": [
       "'=HYPERLINK(\"https://web.bcpa.net/bcpaclient/#/Record-Search?fnumber=484125280260\",\"Link\")'"
      ]
     },
     "execution_count": 4,
     "metadata": {},
     "output_type": "execute_result"
    }
   ],
   "source": [
    "# f'''=HYPERLINK(\"{link}\",\"Link\")'''"
   ]
  },
  {
   "cell_type": "code",
   "execution_count": 1,
   "metadata": {},
   "outputs": [],
   "source": [
    "import pandas as pd\n",
    "df=pd.read_excel(\"Broward Co Links needed-Raw.xlsx\")"
   ]
  },
  {
   "cell_type": "code",
   "execution_count": 2,
   "metadata": {},
   "outputs": [],
   "source": [
    "from typing import List\n",
    "def reverse(text:List):\n",
    "    return text[::-1]"
   ]
  },
  {
   "attachments": {},
   "cell_type": "markdown",
   "metadata": {},
   "source": [
    "## First try the input as it is"
   ]
  },
  {
   "cell_type": "code",
   "execution_count": 3,
   "metadata": {},
   "outputs": [],
   "source": [
    "import requests\n",
    "\n",
    "headers = {\n",
    "    'Accept': 'application/json, text/javascript, */*; q=0.01',\n",
    "    'Accept-Language': 'en-US,en;q=0.9',\n",
    "    'Connection': 'keep-alive',\n",
    "    'Content-Type': 'application/json; charset=UTF-8',\n",
    "    'Origin': 'https://web.bcpa.net',\n",
    "    'Referer': 'https://web.bcpa.net/BcpaClient/',\n",
    "    'Sec-Fetch-Dest': 'empty',\n",
    "    'Sec-Fetch-Mode': 'cors',\n",
    "    'Sec-Fetch-Site': 'same-origin',\n",
    "    'User-Agent': 'Mozilla/5.0 (Windows NT 10.0; Win64; x64) AppleWebKit/537.36 (KHTML, like Gecko) Chrome/113.0.0.0 Safari/537.36',\n",
    "    'X-Requested-With': 'XMLHttpRequest',\n",
    "    'sec-ch-ua': '\"Google Chrome\";v=\"113\", \"Chromium\";v=\"113\", \"Not-A.Brand\";v=\"24\"',\n",
    "    'sec-ch-ua-mobile': '?0',\n",
    "    'sec-ch-ua-platform': '\"Windows\"',\n",
    "}\n",
    "import json\n",
    "import time\n",
    "links=[]\n",
    "error_name=[]\n",
    "def get_url(name:str):\n",
    "    data = {\"value\":name ,\"cities\": \"\",\"orderBy\": \"NAME\",\"pageNumber\":\"1\",\"pageCount\":\"5000\",\"arrayOfValues\":\"\", \"selectedFromList\": \"true\",\"totalCount\":\"Y\"}\n",
    "    data=json.dumps(data)\n",
    "    response = requests.post('https://web.bcpa.net/BcpaClient/search.aspx/GetData', headers=headers, data=data)\n",
    "    try:\n",
    "        dname=response.json()['d']['resultListk__BackingField'][0]['folioNumber']\n",
    "        link=f\"https://web.bcpa.net/bcpaclient/#/Record-Search?fnumber={dname}\"\n",
    "        links.append({\"name\":name,\"link\":link})\n",
    "    except IndexError as e: # try by reversing\n",
    "       error_name.append(name)\n",
    "        \n",
    "    "
   ]
  },
  {
   "cell_type": "code",
   "execution_count": 4,
   "metadata": {},
   "outputs": [],
   "source": [
    "import pandas as pd\n",
    "df=pd.read_excel(\"Broward Co Links needed-Raw.xlsx\")\n",
    "df=pd.DataFrame(df['Owner Name'])\n",
    "df=df.dropna()"
   ]
  },
  {
   "cell_type": "code",
   "execution_count": 5,
   "metadata": {},
   "outputs": [
    {
     "data": {
      "text/plain": [
       "(2828, 1)"
      ]
     },
     "execution_count": 5,
     "metadata": {},
     "output_type": "execute_result"
    }
   ],
   "source": [
    "df.shape"
   ]
  },
  {
   "cell_type": "code",
   "execution_count": 6,
   "metadata": {},
   "outputs": [
    {
     "data": {
      "text/plain": [
       "False    2589\n",
       "True      239\n",
       "Name: Owner Name, dtype: int64"
      ]
     },
     "execution_count": 6,
     "metadata": {},
     "output_type": "execute_result"
    }
   ],
   "source": [
    "df[\"Owner Name\"].duplicated().value_counts()"
   ]
  },
  {
   "cell_type": "code",
   "execution_count": 7,
   "metadata": {},
   "outputs": [],
   "source": [
    "df.drop_duplicates(subset=['Owner Name']).reset_index(drop=True,inplace=True)"
   ]
  },
  {
   "cell_type": "code",
   "execution_count": 8,
   "metadata": {},
   "outputs": [
    {
     "data": {
      "text/plain": [
       "(2828, 1)"
      ]
     },
     "execution_count": 8,
     "metadata": {},
     "output_type": "execute_result"
    }
   ],
   "source": [
    "df.shape"
   ]
  },
  {
   "cell_type": "code",
   "execution_count": 9,
   "metadata": {},
   "outputs": [],
   "source": [
    "owners=df['Owner Name'].values.tolist()"
   ]
  },
  {
   "cell_type": "code",
   "execution_count": 10,
   "metadata": {},
   "outputs": [],
   "source": [
    "owners=(list(set(owners)))"
   ]
  },
  {
   "cell_type": "code",
   "execution_count": 11,
   "metadata": {},
   "outputs": [
    {
     "name": "stderr",
     "output_type": "stream",
     "text": [
      "  0%|          | 0/2589 [00:00<?, ?it/s]"
     ]
    }
   ],
   "source": [
    "from tqdm import tqdm\n",
    "for owner in tqdm(owners):\n",
    "    time.sleep(4)\n",
    "    get_url(owner)\n",
    "    "
   ]
  },
  {
   "cell_type": "code",
   "execution_count": null,
   "metadata": {},
   "outputs": [],
   "source": []
  },
  {
   "cell_type": "code",
   "execution_count": 159,
   "metadata": {},
   "outputs": [],
   "source": [
    "# if len(strings[0].split(\",\")[-1].split(\" \")[-1])==1:\n",
    "#     char_to_remove=strings[0].split(\",\")[-1].split(\" \")[-1]\n",
    "#     firstname=strings[0].split(\",\")[0]\n",
    "#     secondname=strings[0].split(\",\")[-1].split(\" \")\n",
    "#     print(strings[0].split(\",\")[-1].split(\" \"))\n",
    "    \n",
    "\n"
   ]
  },
  {
   "cell_type": "code",
   "execution_count": 108,
   "metadata": {},
   "outputs": [],
   "source": [
    "# names=[]\n",
    "# name=\"ROBINSON,RANDALL C JR\"\n",
    "# firstname=name.split(\",\")[0]\n",
    "# namesplit=name.split(\",\")[-1].split(\" \")\n",
    "# for i,x in enumerate(namesplit):\n",
    "#     names.append(f\"{firstname} {x}\")"
   ]
  }
 ],
 "metadata": {
  "kernelspec": {
   "display_name": "p_39",
   "language": "python",
   "name": "python3"
  },
  "language_info": {
   "codemirror_mode": {
    "name": "ipython",
    "version": 3
   },
   "file_extension": ".py",
   "mimetype": "text/x-python",
   "name": "python",
   "nbconvert_exporter": "python",
   "pygments_lexer": "ipython3",
   "version": "3.9.16"
  },
  "orig_nbformat": 4
 },
 "nbformat": 4,
 "nbformat_minor": 2
}
